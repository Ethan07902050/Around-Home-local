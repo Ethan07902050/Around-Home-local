{
 "cells": [
  {
   "cell_type": "code",
   "execution_count": 1,
   "id": "6a27141f",
   "metadata": {},
   "outputs": [],
   "source": [
    "import requests\n",
    "from bs4 import BeautifulSoup\n",
    "import csv\n",
    "from fake_useragent import UserAgent"
   ]
  },
  {
   "cell_type": "code",
   "execution_count": 5,
   "id": "1dac10ad",
   "metadata": {},
   "outputs": [
    {
     "name": "stdout",
     "output_type": "stream",
     "text": [
      "結束頁數: 10\n"
     ]
    }
   ],
   "source": [
    "# 原網址：https://hwms.epa.gov.tw/dispPageBox/shop/shopCP.aspx?ddsPageID=TABLEWAREE&\n",
    "#目前設定為只爬取 台北市 資料\n",
    "\n",
    "\n",
    "#設定爬取結束頁數，目前全部42頁\n",
    "end = 42\n",
    "\n",
    "\n",
    "restaurants_list = []\n",
    "for page in range(1, end+1):\n",
    "    url = 'https://hwms.epa.gov.tw/dispPageBox/shop/shopCP.aspx?ddsPageID=TABLEWAREE'\n",
    "    my_params = {'p': int(page)}\n",
    "\n",
    "    # 設定header\n",
    "    ua = UserAgent()\n",
    "    user_agent = ua.random\n",
    "    header = {'user-agent': user_agent}\n",
    "\n",
    "    \n",
    "    r = requests.get(url, params = my_params, headers=header)\n",
    "    r.encoding= 'utf-8'\n",
    "    html = r.content\n",
    "    soup = BeautifulSoup(html,'html.parser')\n",
    "    link_list= []\n",
    "    href = \"https://hwms.epa.gov.tw/\"\n",
    "    table = soup.find('table')\n",
    "    for tr in table.find_all('tr'):\n",
    "        for a in tr.find_all('a'):\n",
    "            link = a.get('href')\n",
    "            newlink = str(href) + str(link)\n",
    "            link_list.append(newlink)\n",
    "            \n",
    "    # 若覺得有不必要attribute可以在這裡修改！\n",
    "    not_choose_attribute = [\"區域\",\"地址\"]\n",
    "\n",
    "    \n",
    "    for link in link_list:\n",
    "        # 自訂header\n",
    "        my_headers = {'user-agent': 'my-app/0.0.1'}\n",
    "        r = requests.get(link, headers = my_headers)\n",
    "        r.encoding= 'utf-8'\n",
    "        html = r.content\n",
    "        soup = BeautifulSoup(html,'html.parser')\n",
    "\n",
    "        # 建立此餐廳的dic\n",
    "        shop_dict = {}\n",
    "        attribute_list = []\n",
    "        value_list = []\n",
    "        table = soup.find('tbody')\n",
    "        for tr in table.find_all('tr'):\n",
    "            attribute = tr.find('th').text.strip()\n",
    "            value = tr.find('td').text.strip()\n",
    "\n",
    "\n",
    "            # 選出台北地區餐廳(但不記錄區域這個attribute, 因會與地址重複)\n",
    "            if attribute == \"區域\" and \"台北\" not in value and \"臺北\" not in value:\n",
    "                break\n",
    "            if attribute not in not_choose_attribute:\n",
    "                shop_dict[attribute] = value\n",
    "        if len(shop_dict) > 1:\n",
    "            restaurants_list.append(shop_dict)\n",
    "\n",
    "    #去除多餘空白換行\n",
    "    for restaurant in restaurants_list:\n",
    "        time = restaurant[\"起訖時間\"]\n",
    "        time = time.replace(\"\\r\\n\",\"\")\n",
    "        time = time.replace(\" \",\"\")\n",
    "        restaurant[\"起訖時間\"] = time\n",
    "        time = restaurant[\"營業時間\"]\n",
    "        time = time.replace(\"\\r\\n\",\"\")\n",
    "        time = time.replace(\" \",\"\")\n",
    "        restaurant[\"營業時間\"] = time\n",
    "        \n",
    "        \n",
    "# 寫檔\n",
    "labels = ['餐廳名稱','餐廳類型','營業時間','電話','地址','好康類型','好康條件','好康內容','起訖時間']\n",
    "with open('自備餐具優惠店家資料表.csv', 'w') as f:\n",
    "        writer = csv.DictWriter(f, fieldnames= [attr for attr in labels if attr not in not_choose_attribute])\n",
    "        writer.writeheader()\n",
    "        for elem in restaurants_list:\n",
    "            writer.writerow(elem)"
   ]
  },
  {
   "cell_type": "code",
   "execution_count": null,
   "id": "451abf1e",
   "metadata": {},
   "outputs": [],
   "source": []
  },
  {
   "cell_type": "code",
   "execution_count": null,
   "id": "66663738",
   "metadata": {},
   "outputs": [],
   "source": []
  }
 ],
 "metadata": {
  "kernelspec": {
   "display_name": "Python 3 (ipykernel)",
   "language": "python",
   "name": "python3"
  },
  "language_info": {
   "codemirror_mode": {
    "name": "ipython",
    "version": 3
   },
   "file_extension": ".py",
   "mimetype": "text/x-python",
   "name": "python",
   "nbconvert_exporter": "python",
   "pygments_lexer": "ipython3",
   "version": "3.9.7"
  }
 },
 "nbformat": 4,
 "nbformat_minor": 5
}
